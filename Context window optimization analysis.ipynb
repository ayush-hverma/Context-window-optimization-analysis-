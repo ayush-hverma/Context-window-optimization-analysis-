{
 "cells": [
  {
   "cell_type": "code",
   "execution_count": 1,
   "id": "e51e2a2b-892d-4709-80a5-cc146425e0f5",
   "metadata": {},
   "outputs": [
    {
     "name": "stdout",
     "output_type": "stream",
     "text": [
      "Requirement already satisfied: datasets in c:\\users\\ayush\\anaconda3\\lib\\site-packages (3.2.0)\n",
      "Requirement already satisfied: filelock in c:\\users\\ayush\\anaconda3\\lib\\site-packages (from datasets) (3.13.1)\n",
      "Requirement already satisfied: numpy>=1.17 in c:\\users\\ayush\\anaconda3\\lib\\site-packages (from datasets) (1.26.4)\n",
      "Requirement already satisfied: pyarrow>=15.0.0 in c:\\users\\ayush\\anaconda3\\lib\\site-packages (from datasets) (18.1.0)\n",
      "Requirement already satisfied: dill<0.3.9,>=0.3.0 in c:\\users\\ayush\\anaconda3\\lib\\site-packages (from datasets) (0.3.8)\n",
      "Requirement already satisfied: pandas in c:\\users\\ayush\\anaconda3\\lib\\site-packages (from datasets) (2.2.2)\n",
      "Requirement already satisfied: requests>=2.32.2 in c:\\users\\ayush\\anaconda3\\lib\\site-packages (from datasets) (2.32.2)\n",
      "Requirement already satisfied: tqdm>=4.66.3 in c:\\users\\ayush\\anaconda3\\lib\\site-packages (from datasets) (4.66.4)\n",
      "Requirement already satisfied: xxhash in c:\\users\\ayush\\anaconda3\\lib\\site-packages (from datasets) (3.5.0)\n",
      "Requirement already satisfied: multiprocess<0.70.17 in c:\\users\\ayush\\anaconda3\\lib\\site-packages (from datasets) (0.70.16)\n",
      "Requirement already satisfied: fsspec<=2024.9.0,>=2023.1.0 in c:\\users\\ayush\\anaconda3\\lib\\site-packages (from fsspec[http]<=2024.9.0,>=2023.1.0->datasets) (2024.3.1)\n",
      "Requirement already satisfied: aiohttp in c:\\users\\ayush\\anaconda3\\lib\\site-packages (from datasets) (3.9.5)\n",
      "Requirement already satisfied: huggingface-hub>=0.23.0 in c:\\users\\ayush\\anaconda3\\lib\\site-packages (from datasets) (0.27.0)\n",
      "Requirement already satisfied: packaging in c:\\users\\ayush\\anaconda3\\lib\\site-packages (from datasets) (23.2)\n",
      "Requirement already satisfied: pyyaml>=5.1 in c:\\users\\ayush\\anaconda3\\lib\\site-packages (from datasets) (6.0.1)\n",
      "Requirement already satisfied: aiosignal>=1.1.2 in c:\\users\\ayush\\anaconda3\\lib\\site-packages (from aiohttp->datasets) (1.2.0)\n",
      "Requirement already satisfied: attrs>=17.3.0 in c:\\users\\ayush\\anaconda3\\lib\\site-packages (from aiohttp->datasets) (23.1.0)\n",
      "Requirement already satisfied: frozenlist>=1.1.1 in c:\\users\\ayush\\anaconda3\\lib\\site-packages (from aiohttp->datasets) (1.4.0)\n",
      "Requirement already satisfied: multidict<7.0,>=4.5 in c:\\users\\ayush\\anaconda3\\lib\\site-packages (from aiohttp->datasets) (6.0.4)\n",
      "Requirement already satisfied: yarl<2.0,>=1.0 in c:\\users\\ayush\\anaconda3\\lib\\site-packages (from aiohttp->datasets) (1.9.3)\n",
      "Requirement already satisfied: typing-extensions>=3.7.4.3 in c:\\users\\ayush\\anaconda3\\lib\\site-packages (from huggingface-hub>=0.23.0->datasets) (4.11.0)\n",
      "Requirement already satisfied: charset-normalizer<4,>=2 in c:\\users\\ayush\\anaconda3\\lib\\site-packages (from requests>=2.32.2->datasets) (2.0.4)\n",
      "Requirement already satisfied: idna<4,>=2.5 in c:\\users\\ayush\\anaconda3\\lib\\site-packages (from requests>=2.32.2->datasets) (3.7)\n",
      "Requirement already satisfied: urllib3<3,>=1.21.1 in c:\\users\\ayush\\anaconda3\\lib\\site-packages (from requests>=2.32.2->datasets) (2.2.2)\n",
      "Requirement already satisfied: certifi>=2017.4.17 in c:\\users\\ayush\\anaconda3\\lib\\site-packages (from requests>=2.32.2->datasets) (2024.6.2)\n",
      "Requirement already satisfied: colorama in c:\\users\\ayush\\anaconda3\\lib\\site-packages (from tqdm>=4.66.3->datasets) (0.4.6)\n",
      "Requirement already satisfied: python-dateutil>=2.8.2 in c:\\users\\ayush\\anaconda3\\lib\\site-packages (from pandas->datasets) (2.9.0.post0)\n",
      "Requirement already satisfied: pytz>=2020.1 in c:\\users\\ayush\\anaconda3\\lib\\site-packages (from pandas->datasets) (2024.1)\n",
      "Requirement already satisfied: tzdata>=2022.7 in c:\\users\\ayush\\anaconda3\\lib\\site-packages (from pandas->datasets) (2023.3)\n",
      "Requirement already satisfied: six>=1.5 in c:\\users\\ayush\\anaconda3\\lib\\site-packages (from python-dateutil>=2.8.2->pandas->datasets) (1.16.0)\n",
      "Requirement already satisfied: ipywidgets in c:\\users\\ayush\\anaconda3\\lib\\site-packages (7.8.1)\n",
      "Requirement already satisfied: comm>=0.1.3 in c:\\users\\ayush\\anaconda3\\lib\\site-packages (from ipywidgets) (0.2.1)\n",
      "Requirement already satisfied: ipython-genutils~=0.2.0 in c:\\users\\ayush\\anaconda3\\lib\\site-packages (from ipywidgets) (0.2.0)\n",
      "Requirement already satisfied: traitlets>=4.3.1 in c:\\users\\ayush\\anaconda3\\lib\\site-packages (from ipywidgets) (5.14.3)\n",
      "Requirement already satisfied: widgetsnbextension~=3.6.6 in c:\\users\\ayush\\anaconda3\\lib\\site-packages (from ipywidgets) (3.6.6)\n",
      "Requirement already satisfied: ipython>=4.0.0 in c:\\users\\ayush\\anaconda3\\lib\\site-packages (from ipywidgets) (8.25.0)\n",
      "Requirement already satisfied: jupyterlab-widgets<3,>=1.0.0 in c:\\users\\ayush\\anaconda3\\lib\\site-packages (from ipywidgets) (1.0.0)\n",
      "Requirement already satisfied: decorator in c:\\users\\ayush\\anaconda3\\lib\\site-packages (from ipython>=4.0.0->ipywidgets) (5.1.1)\n",
      "Requirement already satisfied: jedi>=0.16 in c:\\users\\ayush\\anaconda3\\lib\\site-packages (from ipython>=4.0.0->ipywidgets) (0.18.1)\n",
      "Requirement already satisfied: matplotlib-inline in c:\\users\\ayush\\anaconda3\\lib\\site-packages (from ipython>=4.0.0->ipywidgets) (0.1.6)\n",
      "Requirement already satisfied: prompt-toolkit<3.1.0,>=3.0.41 in c:\\users\\ayush\\anaconda3\\lib\\site-packages (from ipython>=4.0.0->ipywidgets) (3.0.43)\n",
      "Requirement already satisfied: pygments>=2.4.0 in c:\\users\\ayush\\anaconda3\\lib\\site-packages (from ipython>=4.0.0->ipywidgets) (2.15.1)\n",
      "Requirement already satisfied: stack-data in c:\\users\\ayush\\anaconda3\\lib\\site-packages (from ipython>=4.0.0->ipywidgets) (0.2.0)\n",
      "Requirement already satisfied: colorama in c:\\users\\ayush\\anaconda3\\lib\\site-packages (from ipython>=4.0.0->ipywidgets) (0.4.6)\n",
      "Requirement already satisfied: notebook>=4.4.1 in c:\\users\\ayush\\anaconda3\\lib\\site-packages (from widgetsnbextension~=3.6.6->ipywidgets) (7.0.8)\n",
      "Requirement already satisfied: parso<0.9.0,>=0.8.0 in c:\\users\\ayush\\anaconda3\\lib\\site-packages (from jedi>=0.16->ipython>=4.0.0->ipywidgets) (0.8.3)\n",
      "Requirement already satisfied: jupyter-server<3,>=2.4.0 in c:\\users\\ayush\\anaconda3\\lib\\site-packages (from notebook>=4.4.1->widgetsnbextension~=3.6.6->ipywidgets) (2.14.1)\n",
      "Requirement already satisfied: jupyterlab-server<3,>=2.22.1 in c:\\users\\ayush\\anaconda3\\lib\\site-packages (from notebook>=4.4.1->widgetsnbextension~=3.6.6->ipywidgets) (2.25.1)\n",
      "Requirement already satisfied: jupyterlab<4.1,>=4.0.2 in c:\\users\\ayush\\anaconda3\\lib\\site-packages (from notebook>=4.4.1->widgetsnbextension~=3.6.6->ipywidgets) (4.0.11)\n",
      "Requirement already satisfied: notebook-shim<0.3,>=0.2 in c:\\users\\ayush\\anaconda3\\lib\\site-packages (from notebook>=4.4.1->widgetsnbextension~=3.6.6->ipywidgets) (0.2.3)\n",
      "Requirement already satisfied: tornado>=6.2.0 in c:\\users\\ayush\\anaconda3\\lib\\site-packages (from notebook>=4.4.1->widgetsnbextension~=3.6.6->ipywidgets) (6.4.1)\n",
      "Requirement already satisfied: wcwidth in c:\\users\\ayush\\anaconda3\\lib\\site-packages (from prompt-toolkit<3.1.0,>=3.0.41->ipython>=4.0.0->ipywidgets) (0.2.5)\n",
      "Requirement already satisfied: executing in c:\\users\\ayush\\anaconda3\\lib\\site-packages (from stack-data->ipython>=4.0.0->ipywidgets) (0.8.3)\n",
      "Requirement already satisfied: asttokens in c:\\users\\ayush\\anaconda3\\lib\\site-packages (from stack-data->ipython>=4.0.0->ipywidgets) (2.0.5)\n",
      "Requirement already satisfied: pure-eval in c:\\users\\ayush\\anaconda3\\lib\\site-packages (from stack-data->ipython>=4.0.0->ipywidgets) (0.2.2)\n",
      "Requirement already satisfied: anyio>=3.1.0 in c:\\users\\ayush\\anaconda3\\lib\\site-packages (from jupyter-server<3,>=2.4.0->notebook>=4.4.1->widgetsnbextension~=3.6.6->ipywidgets) (4.2.0)\n",
      "Requirement already satisfied: argon2-cffi>=21.1 in c:\\users\\ayush\\anaconda3\\lib\\site-packages (from jupyter-server<3,>=2.4.0->notebook>=4.4.1->widgetsnbextension~=3.6.6->ipywidgets) (21.3.0)\n",
      "Requirement already satisfied: jinja2>=3.0.3 in c:\\users\\ayush\\anaconda3\\lib\\site-packages (from jupyter-server<3,>=2.4.0->notebook>=4.4.1->widgetsnbextension~=3.6.6->ipywidgets) (3.1.4)\n",
      "Requirement already satisfied: jupyter-client>=7.4.4 in c:\\users\\ayush\\anaconda3\\lib\\site-packages (from jupyter-server<3,>=2.4.0->notebook>=4.4.1->widgetsnbextension~=3.6.6->ipywidgets) (8.6.0)\n",
      "Requirement already satisfied: jupyter-core!=5.0.*,>=4.12 in c:\\users\\ayush\\anaconda3\\lib\\site-packages (from jupyter-server<3,>=2.4.0->notebook>=4.4.1->widgetsnbextension~=3.6.6->ipywidgets) (5.7.2)\n",
      "Requirement already satisfied: jupyter-events>=0.9.0 in c:\\users\\ayush\\anaconda3\\lib\\site-packages (from jupyter-server<3,>=2.4.0->notebook>=4.4.1->widgetsnbextension~=3.6.6->ipywidgets) (0.10.0)\n",
      "Requirement already satisfied: jupyter-server-terminals>=0.4.4 in c:\\users\\ayush\\anaconda3\\lib\\site-packages (from jupyter-server<3,>=2.4.0->notebook>=4.4.1->widgetsnbextension~=3.6.6->ipywidgets) (0.4.4)\n",
      "Requirement already satisfied: nbconvert>=6.4.4 in c:\\users\\ayush\\anaconda3\\lib\\site-packages (from jupyter-server<3,>=2.4.0->notebook>=4.4.1->widgetsnbextension~=3.6.6->ipywidgets) (7.10.0)\n",
      "Requirement already satisfied: nbformat>=5.3.0 in c:\\users\\ayush\\anaconda3\\lib\\site-packages (from jupyter-server<3,>=2.4.0->notebook>=4.4.1->widgetsnbextension~=3.6.6->ipywidgets) (5.9.2)\n",
      "Requirement already satisfied: overrides>=5.0 in c:\\users\\ayush\\anaconda3\\lib\\site-packages (from jupyter-server<3,>=2.4.0->notebook>=4.4.1->widgetsnbextension~=3.6.6->ipywidgets) (7.4.0)\n",
      "Requirement already satisfied: packaging>=22.0 in c:\\users\\ayush\\anaconda3\\lib\\site-packages (from jupyter-server<3,>=2.4.0->notebook>=4.4.1->widgetsnbextension~=3.6.6->ipywidgets) (23.2)\n",
      "Requirement already satisfied: prometheus-client>=0.9 in c:\\users\\ayush\\anaconda3\\lib\\site-packages (from jupyter-server<3,>=2.4.0->notebook>=4.4.1->widgetsnbextension~=3.6.6->ipywidgets) (0.14.1)\n",
      "Requirement already satisfied: pywinpty>=2.0.1 in c:\\users\\ayush\\anaconda3\\lib\\site-packages (from jupyter-server<3,>=2.4.0->notebook>=4.4.1->widgetsnbextension~=3.6.6->ipywidgets) (2.0.10)\n",
      "Requirement already satisfied: pyzmq>=24 in c:\\users\\ayush\\anaconda3\\lib\\site-packages (from jupyter-server<3,>=2.4.0->notebook>=4.4.1->widgetsnbextension~=3.6.6->ipywidgets) (25.1.2)\n",
      "Requirement already satisfied: send2trash>=1.8.2 in c:\\users\\ayush\\anaconda3\\lib\\site-packages (from jupyter-server<3,>=2.4.0->notebook>=4.4.1->widgetsnbextension~=3.6.6->ipywidgets) (1.8.2)\n",
      "Requirement already satisfied: terminado>=0.8.3 in c:\\users\\ayush\\anaconda3\\lib\\site-packages (from jupyter-server<3,>=2.4.0->notebook>=4.4.1->widgetsnbextension~=3.6.6->ipywidgets) (0.17.1)\n",
      "Requirement already satisfied: websocket-client>=1.7 in c:\\users\\ayush\\anaconda3\\lib\\site-packages (from jupyter-server<3,>=2.4.0->notebook>=4.4.1->widgetsnbextension~=3.6.6->ipywidgets) (1.8.0)\n",
      "Requirement already satisfied: async-lru>=1.0.0 in c:\\users\\ayush\\anaconda3\\lib\\site-packages (from jupyterlab<4.1,>=4.0.2->notebook>=4.4.1->widgetsnbextension~=3.6.6->ipywidgets) (2.0.4)\n",
      "Requirement already satisfied: ipykernel in c:\\users\\ayush\\anaconda3\\lib\\site-packages (from jupyterlab<4.1,>=4.0.2->notebook>=4.4.1->widgetsnbextension~=3.6.6->ipywidgets) (6.28.0)\n",
      "Requirement already satisfied: jupyter-lsp>=2.0.0 in c:\\users\\ayush\\anaconda3\\lib\\site-packages (from jupyterlab<4.1,>=4.0.2->notebook>=4.4.1->widgetsnbextension~=3.6.6->ipywidgets) (2.2.0)\n",
      "Requirement already satisfied: babel>=2.10 in c:\\users\\ayush\\anaconda3\\lib\\site-packages (from jupyterlab-server<3,>=2.22.1->notebook>=4.4.1->widgetsnbextension~=3.6.6->ipywidgets) (2.11.0)\n",
      "Requirement already satisfied: json5>=0.9.0 in c:\\users\\ayush\\anaconda3\\lib\\site-packages (from jupyterlab-server<3,>=2.22.1->notebook>=4.4.1->widgetsnbextension~=3.6.6->ipywidgets) (0.9.6)\n",
      "Requirement already satisfied: jsonschema>=4.18.0 in c:\\users\\ayush\\anaconda3\\lib\\site-packages (from jupyterlab-server<3,>=2.22.1->notebook>=4.4.1->widgetsnbextension~=3.6.6->ipywidgets) (4.19.2)\n",
      "Requirement already satisfied: requests>=2.31 in c:\\users\\ayush\\anaconda3\\lib\\site-packages (from jupyterlab-server<3,>=2.22.1->notebook>=4.4.1->widgetsnbextension~=3.6.6->ipywidgets) (2.32.2)\n",
      "Requirement already satisfied: six in c:\\users\\ayush\\anaconda3\\lib\\site-packages (from asttokens->stack-data->ipython>=4.0.0->ipywidgets) (1.16.0)\n",
      "Requirement already satisfied: idna>=2.8 in c:\\users\\ayush\\anaconda3\\lib\\site-packages (from anyio>=3.1.0->jupyter-server<3,>=2.4.0->notebook>=4.4.1->widgetsnbextension~=3.6.6->ipywidgets) (3.7)\n",
      "Requirement already satisfied: sniffio>=1.1 in c:\\users\\ayush\\anaconda3\\lib\\site-packages (from anyio>=3.1.0->jupyter-server<3,>=2.4.0->notebook>=4.4.1->widgetsnbextension~=3.6.6->ipywidgets) (1.3.0)\n",
      "Requirement already satisfied: argon2-cffi-bindings in c:\\users\\ayush\\anaconda3\\lib\\site-packages (from argon2-cffi>=21.1->jupyter-server<3,>=2.4.0->notebook>=4.4.1->widgetsnbextension~=3.6.6->ipywidgets) (21.2.0)\n",
      "Requirement already satisfied: pytz>=2015.7 in c:\\users\\ayush\\anaconda3\\lib\\site-packages (from babel>=2.10->jupyterlab-server<3,>=2.22.1->notebook>=4.4.1->widgetsnbextension~=3.6.6->ipywidgets) (2024.1)\n",
      "Requirement already satisfied: MarkupSafe>=2.0 in c:\\users\\ayush\\anaconda3\\lib\\site-packages (from jinja2>=3.0.3->jupyter-server<3,>=2.4.0->notebook>=4.4.1->widgetsnbextension~=3.6.6->ipywidgets) (2.1.3)\n",
      "Requirement already satisfied: attrs>=22.2.0 in c:\\users\\ayush\\anaconda3\\lib\\site-packages (from jsonschema>=4.18.0->jupyterlab-server<3,>=2.22.1->notebook>=4.4.1->widgetsnbextension~=3.6.6->ipywidgets) (23.1.0)\n",
      "Requirement already satisfied: jsonschema-specifications>=2023.03.6 in c:\\users\\ayush\\anaconda3\\lib\\site-packages (from jsonschema>=4.18.0->jupyterlab-server<3,>=2.22.1->notebook>=4.4.1->widgetsnbextension~=3.6.6->ipywidgets) (2023.7.1)\n",
      "Requirement already satisfied: referencing>=0.28.4 in c:\\users\\ayush\\anaconda3\\lib\\site-packages (from jsonschema>=4.18.0->jupyterlab-server<3,>=2.22.1->notebook>=4.4.1->widgetsnbextension~=3.6.6->ipywidgets) (0.30.2)\n",
      "Requirement already satisfied: rpds-py>=0.7.1 in c:\\users\\ayush\\anaconda3\\lib\\site-packages (from jsonschema>=4.18.0->jupyterlab-server<3,>=2.22.1->notebook>=4.4.1->widgetsnbextension~=3.6.6->ipywidgets) (0.10.6)\n",
      "Requirement already satisfied: python-dateutil>=2.8.2 in c:\\users\\ayush\\anaconda3\\lib\\site-packages (from jupyter-client>=7.4.4->jupyter-server<3,>=2.4.0->notebook>=4.4.1->widgetsnbextension~=3.6.6->ipywidgets) (2.9.0.post0)\n",
      "Requirement already satisfied: platformdirs>=2.5 in c:\\users\\ayush\\anaconda3\\lib\\site-packages (from jupyter-core!=5.0.*,>=4.12->jupyter-server<3,>=2.4.0->notebook>=4.4.1->widgetsnbextension~=3.6.6->ipywidgets) (3.10.0)\n",
      "Requirement already satisfied: pywin32>=300 in c:\\users\\ayush\\anaconda3\\lib\\site-packages (from jupyter-core!=5.0.*,>=4.12->jupyter-server<3,>=2.4.0->notebook>=4.4.1->widgetsnbextension~=3.6.6->ipywidgets) (305.1)\n",
      "Requirement already satisfied: python-json-logger>=2.0.4 in c:\\users\\ayush\\anaconda3\\lib\\site-packages (from jupyter-events>=0.9.0->jupyter-server<3,>=2.4.0->notebook>=4.4.1->widgetsnbextension~=3.6.6->ipywidgets) (2.0.7)\n",
      "Requirement already satisfied: pyyaml>=5.3 in c:\\users\\ayush\\anaconda3\\lib\\site-packages (from jupyter-events>=0.9.0->jupyter-server<3,>=2.4.0->notebook>=4.4.1->widgetsnbextension~=3.6.6->ipywidgets) (6.0.1)\n",
      "Requirement already satisfied: rfc3339-validator in c:\\users\\ayush\\anaconda3\\lib\\site-packages (from jupyter-events>=0.9.0->jupyter-server<3,>=2.4.0->notebook>=4.4.1->widgetsnbextension~=3.6.6->ipywidgets) (0.1.4)\n",
      "Requirement already satisfied: rfc3986-validator>=0.1.1 in c:\\users\\ayush\\anaconda3\\lib\\site-packages (from jupyter-events>=0.9.0->jupyter-server<3,>=2.4.0->notebook>=4.4.1->widgetsnbextension~=3.6.6->ipywidgets) (0.1.1)\n",
      "Requirement already satisfied: beautifulsoup4 in c:\\users\\ayush\\anaconda3\\lib\\site-packages (from nbconvert>=6.4.4->jupyter-server<3,>=2.4.0->notebook>=4.4.1->widgetsnbextension~=3.6.6->ipywidgets) (4.12.3)\n",
      "Requirement already satisfied: bleach!=5.0.0 in c:\\users\\ayush\\anaconda3\\lib\\site-packages (from nbconvert>=6.4.4->jupyter-server<3,>=2.4.0->notebook>=4.4.1->widgetsnbextension~=3.6.6->ipywidgets) (4.1.0)\n",
      "Requirement already satisfied: defusedxml in c:\\users\\ayush\\anaconda3\\lib\\site-packages (from nbconvert>=6.4.4->jupyter-server<3,>=2.4.0->notebook>=4.4.1->widgetsnbextension~=3.6.6->ipywidgets) (0.7.1)\n",
      "Requirement already satisfied: jupyterlab-pygments in c:\\users\\ayush\\anaconda3\\lib\\site-packages (from nbconvert>=6.4.4->jupyter-server<3,>=2.4.0->notebook>=4.4.1->widgetsnbextension~=3.6.6->ipywidgets) (0.1.2)\n",
      "Requirement already satisfied: mistune<4,>=2.0.3 in c:\\users\\ayush\\anaconda3\\lib\\site-packages (from nbconvert>=6.4.4->jupyter-server<3,>=2.4.0->notebook>=4.4.1->widgetsnbextension~=3.6.6->ipywidgets) (2.0.4)\n",
      "Requirement already satisfied: nbclient>=0.5.0 in c:\\users\\ayush\\anaconda3\\lib\\site-packages (from nbconvert>=6.4.4->jupyter-server<3,>=2.4.0->notebook>=4.4.1->widgetsnbextension~=3.6.6->ipywidgets) (0.8.0)\n",
      "Requirement already satisfied: pandocfilters>=1.4.1 in c:\\users\\ayush\\anaconda3\\lib\\site-packages (from nbconvert>=6.4.4->jupyter-server<3,>=2.4.0->notebook>=4.4.1->widgetsnbextension~=3.6.6->ipywidgets) (1.5.0)\n",
      "Requirement already satisfied: tinycss2 in c:\\users\\ayush\\anaconda3\\lib\\site-packages (from nbconvert>=6.4.4->jupyter-server<3,>=2.4.0->notebook>=4.4.1->widgetsnbextension~=3.6.6->ipywidgets) (1.2.1)\n",
      "Requirement already satisfied: fastjsonschema in c:\\users\\ayush\\anaconda3\\lib\\site-packages (from nbformat>=5.3.0->jupyter-server<3,>=2.4.0->notebook>=4.4.1->widgetsnbextension~=3.6.6->ipywidgets) (2.16.2)\n",
      "Requirement already satisfied: charset-normalizer<4,>=2 in c:\\users\\ayush\\anaconda3\\lib\\site-packages (from requests>=2.31->jupyterlab-server<3,>=2.22.1->notebook>=4.4.1->widgetsnbextension~=3.6.6->ipywidgets) (2.0.4)\n",
      "Requirement already satisfied: urllib3<3,>=1.21.1 in c:\\users\\ayush\\anaconda3\\lib\\site-packages (from requests>=2.31->jupyterlab-server<3,>=2.22.1->notebook>=4.4.1->widgetsnbextension~=3.6.6->ipywidgets) (2.2.2)\n",
      "Requirement already satisfied: certifi>=2017.4.17 in c:\\users\\ayush\\anaconda3\\lib\\site-packages (from requests>=2.31->jupyterlab-server<3,>=2.22.1->notebook>=4.4.1->widgetsnbextension~=3.6.6->ipywidgets) (2024.6.2)\n",
      "Requirement already satisfied: debugpy>=1.6.5 in c:\\users\\ayush\\anaconda3\\lib\\site-packages (from ipykernel->jupyterlab<4.1,>=4.0.2->notebook>=4.4.1->widgetsnbextension~=3.6.6->ipywidgets) (1.6.7)\n",
      "Requirement already satisfied: nest-asyncio in c:\\users\\ayush\\anaconda3\\lib\\site-packages (from ipykernel->jupyterlab<4.1,>=4.0.2->notebook>=4.4.1->widgetsnbextension~=3.6.6->ipywidgets) (1.6.0)\n",
      "Requirement already satisfied: psutil in c:\\users\\ayush\\anaconda3\\lib\\site-packages (from ipykernel->jupyterlab<4.1,>=4.0.2->notebook>=4.4.1->widgetsnbextension~=3.6.6->ipywidgets) (5.9.0)\n",
      "Requirement already satisfied: webencodings in c:\\users\\ayush\\anaconda3\\lib\\site-packages (from bleach!=5.0.0->nbconvert>=6.4.4->jupyter-server<3,>=2.4.0->notebook>=4.4.1->widgetsnbextension~=3.6.6->ipywidgets) (0.5.1)\n",
      "Collecting fqdn (from jsonschema[format-nongpl]>=4.18.0->jupyter-events>=0.9.0->jupyter-server<3,>=2.4.0->notebook>=4.4.1->widgetsnbextension~=3.6.6->ipywidgets)\n",
      "  Using cached fqdn-1.5.1-py3-none-any.whl.metadata (1.4 kB)\n",
      "Collecting isoduration (from jsonschema[format-nongpl]>=4.18.0->jupyter-events>=0.9.0->jupyter-server<3,>=2.4.0->notebook>=4.4.1->widgetsnbextension~=3.6.6->ipywidgets)\n",
      "  Using cached isoduration-20.11.0-py3-none-any.whl.metadata (5.7 kB)\n",
      "Requirement already satisfied: jsonpointer>1.13 in c:\\users\\ayush\\anaconda3\\lib\\site-packages (from jsonschema[format-nongpl]>=4.18.0->jupyter-events>=0.9.0->jupyter-server<3,>=2.4.0->notebook>=4.4.1->widgetsnbextension~=3.6.6->ipywidgets) (2.1)\n",
      "Collecting uri-template (from jsonschema[format-nongpl]>=4.18.0->jupyter-events>=0.9.0->jupyter-server<3,>=2.4.0->notebook>=4.4.1->widgetsnbextension~=3.6.6->ipywidgets)\n",
      "  Using cached uri_template-1.3.0-py3-none-any.whl.metadata (8.8 kB)\n",
      "Collecting webcolors>=1.11 (from jsonschema[format-nongpl]>=4.18.0->jupyter-events>=0.9.0->jupyter-server<3,>=2.4.0->notebook>=4.4.1->widgetsnbextension~=3.6.6->ipywidgets)\n",
      "  Downloading webcolors-24.11.1-py3-none-any.whl.metadata (2.2 kB)\n",
      "Requirement already satisfied: cffi>=1.0.1 in c:\\users\\ayush\\anaconda3\\lib\\site-packages (from argon2-cffi-bindings->argon2-cffi>=21.1->jupyter-server<3,>=2.4.0->notebook>=4.4.1->widgetsnbextension~=3.6.6->ipywidgets) (1.16.0)\n",
      "Requirement already satisfied: soupsieve>1.2 in c:\\users\\ayush\\anaconda3\\lib\\site-packages (from beautifulsoup4->nbconvert>=6.4.4->jupyter-server<3,>=2.4.0->notebook>=4.4.1->widgetsnbextension~=3.6.6->ipywidgets) (2.5)\n",
      "Requirement already satisfied: pycparser in c:\\users\\ayush\\anaconda3\\lib\\site-packages (from cffi>=1.0.1->argon2-cffi-bindings->argon2-cffi>=21.1->jupyter-server<3,>=2.4.0->notebook>=4.4.1->widgetsnbextension~=3.6.6->ipywidgets) (2.21)\n",
      "Requirement already satisfied: arrow>=0.15.0 in c:\\users\\ayush\\anaconda3\\lib\\site-packages (from isoduration->jsonschema[format-nongpl]>=4.18.0->jupyter-events>=0.9.0->jupyter-server<3,>=2.4.0->notebook>=4.4.1->widgetsnbextension~=3.6.6->ipywidgets) (1.2.3)\n",
      "Downloading webcolors-24.11.1-py3-none-any.whl (14 kB)\n",
      "Using cached fqdn-1.5.1-py3-none-any.whl (9.1 kB)\n",
      "Using cached isoduration-20.11.0-py3-none-any.whl (11 kB)\n",
      "Using cached uri_template-1.3.0-py3-none-any.whl (11 kB)\n",
      "Installing collected packages: webcolors, uri-template, fqdn, isoduration\n",
      "Successfully installed fqdn-1.5.1 isoduration-20.11.0 uri-template-1.3.0 webcolors-24.11.1\n"
     ]
    },
    {
     "name": "stderr",
     "output_type": "stream",
     "text": [
      "usage: jupyter [-h] [--version] [--config-dir] [--data-dir] [--runtime-dir]\n",
      "               [--paths] [--json] [--debug]\n",
      "               [subcommand]\n",
      "\n",
      "Jupyter: Interactive Computing\n",
      "\n",
      "positional arguments:\n",
      "  subcommand     the subcommand to launch\n",
      "\n",
      "options:\n",
      "  -h, --help     show this help message and exit\n",
      "  --version      show the versions of core jupyter packages and exit\n",
      "  --config-dir   show Jupyter config dir\n",
      "  --data-dir     show Jupyter data dir\n",
      "  --runtime-dir  show Jupyter runtime dir\n",
      "  --paths        show all Jupyter paths. Add --json for machine-readable\n",
      "                 format.\n",
      "  --json         output paths as machine-readable json\n",
      "  --debug        output debug information about paths\n",
      "\n",
      "Available subcommands: console dejavu events execute kernel kernelspec lab\n",
      "labextension labhub migrate nbconvert notebook qtconsole run script server\n",
      "troubleshoot trust\n",
      "\n",
      "Jupyter command `jupyter-nbextension` not found.\n"
     ]
    }
   ],
   "source": [
    "!pip install datasets\n",
    "!pip install ipywidgets\n",
    "!jupyter nbextension enable --py widgetsnbextension --sys-prefix"
   ]
  },
  {
   "cell_type": "code",
   "execution_count": 1,
   "id": "62e3d1a6-a758-44c7-809e-dbca20f09098",
   "metadata": {},
   "outputs": [
    {
     "data": {
      "application/vnd.jupyter.widget-view+json": {
       "model_id": "45bf7f54377b42ea9e82b73cbc7e7016",
       "version_major": 2,
       "version_minor": 0
      },
      "text/plain": [
       "README.md:   0%|          | 0.00/7.81k [00:00<?, ?B/s]"
      ]
     },
     "metadata": {},
     "output_type": "display_data"
    },
    {
     "name": "stderr",
     "output_type": "stream",
     "text": [
      "C:\\Users\\ayush\\anaconda3\\Lib\\site-packages\\huggingface_hub\\file_download.py:140: UserWarning: `huggingface_hub` cache-system uses symlinks by default to efficiently store duplicated files but your machine does not support them in C:\\Users\\ayush\\.cache\\huggingface\\hub\\datasets--imdb. Caching files will still work but in a degraded version that might require more space on your disk. This warning can be disabled by setting the `HF_HUB_DISABLE_SYMLINKS_WARNING` environment variable. For more details, see https://huggingface.co/docs/huggingface_hub/how-to-cache#limitations.\n",
      "To support symlinks on Windows, you either need to activate Developer Mode or to run Python as an administrator. In order to activate developer mode, see this article: https://docs.microsoft.com/en-us/windows/apps/get-started/enable-your-device-for-development\n",
      "  warnings.warn(message)\n"
     ]
    },
    {
     "data": {
      "application/vnd.jupyter.widget-view+json": {
       "model_id": "14931e4f4f2c49258f5e96177fdc0f55",
       "version_major": 2,
       "version_minor": 0
      },
      "text/plain": [
       "train-00000-of-00001.parquet:   0%|          | 0.00/21.0M [00:00<?, ?B/s]"
      ]
     },
     "metadata": {},
     "output_type": "display_data"
    },
    {
     "data": {
      "application/vnd.jupyter.widget-view+json": {
       "model_id": "d17e0cb734de4f208c0118d41551c383",
       "version_major": 2,
       "version_minor": 0
      },
      "text/plain": [
       "test-00000-of-00001.parquet:   0%|          | 0.00/20.5M [00:00<?, ?B/s]"
      ]
     },
     "metadata": {},
     "output_type": "display_data"
    },
    {
     "data": {
      "application/vnd.jupyter.widget-view+json": {
       "model_id": "6aebd4abdc8a4a5ea73bd93806ca36ef",
       "version_major": 2,
       "version_minor": 0
      },
      "text/plain": [
       "unsupervised-00000-of-00001.parquet:   0%|          | 0.00/42.0M [00:00<?, ?B/s]"
      ]
     },
     "metadata": {},
     "output_type": "display_data"
    },
    {
     "data": {
      "application/vnd.jupyter.widget-view+json": {
       "model_id": "16af4835331d46819225d94c490ed2f1",
       "version_major": 2,
       "version_minor": 0
      },
      "text/plain": [
       "Generating train split:   0%|          | 0/25000 [00:00<?, ? examples/s]"
      ]
     },
     "metadata": {},
     "output_type": "display_data"
    },
    {
     "data": {
      "application/vnd.jupyter.widget-view+json": {
       "model_id": "0ccbdb172cc54e71bf42df6852552393",
       "version_major": 2,
       "version_minor": 0
      },
      "text/plain": [
       "Generating test split:   0%|          | 0/25000 [00:00<?, ? examples/s]"
      ]
     },
     "metadata": {},
     "output_type": "display_data"
    },
    {
     "data": {
      "application/vnd.jupyter.widget-view+json": {
       "model_id": "8d265019e86b4a93b75572d51d6cdb9f",
       "version_major": 2,
       "version_minor": 0
      },
      "text/plain": [
       "Generating unsupervised split:   0%|          | 0/50000 [00:00<?, ? examples/s]"
      ]
     },
     "metadata": {},
     "output_type": "display_data"
    }
   ],
   "source": [
    "from datasets import load_dataset\n",
    "\n",
    "dataset = load_dataset('imdb', split='train[:1%]')"
   ]
  },
  {
   "cell_type": "code",
   "execution_count": 6,
   "id": "cc1862bd-d0b6-471c-90e1-730212cb2854",
   "metadata": {},
   "outputs": [],
   "source": [
    "def clean_text(text):\n",
    "    text = text.strip()  \n",
    "    text = text.replace('\\n', ' ')  \n",
    "    return text"
   ]
  },
  {
   "cell_type": "code",
   "execution_count": 32,
   "id": "4c0d0c75-1275-4d47-866e-716588b18e13",
   "metadata": {},
   "outputs": [
    {
     "data": {
      "application/vnd.jupyter.widget-view+json": {
       "model_id": "24c534d0707b4386990670f8a0558067",
       "version_major": 2,
       "version_minor": 0
      },
      "text/plain": [
       "Map:   0%|          | 0/250 [00:00<?, ? examples/s]"
      ]
     },
     "metadata": {},
     "output_type": "display_data"
    },
    {
     "name": "stderr",
     "output_type": "stream",
     "text": [
      "[nltk_data] Downloading package punkt to\n",
      "[nltk_data]     C:\\Users\\ayush\\AppData\\Roaming\\nltk_data...\n",
      "[nltk_data]   Package punkt is already up-to-date!\n"
     ]
    },
    {
     "data": {
      "application/vnd.jupyter.widget-view+json": {
       "model_id": "5c84719c61d64281894bd1a77a3d8c36",
       "version_major": 2,
       "version_minor": 0
      },
      "text/plain": [
       "Map:   0%|          | 0/250 [00:00<?, ? examples/s]"
      ]
     },
     "metadata": {},
     "output_type": "display_data"
    }
   ],
   "source": [
    "dataset = dataset.map(lambda x: {'text': clean_text(x['text'])})\n",
    "\n",
    "def chunk_text_fixed_length(text, chunk_size=512):\n",
    "    return [text[i:i+chunk_size] for i in range(0, len(text), chunk_size)]\n",
    "\n",
    "import nltk\n",
    "nltk.download('punkt')\n",
    "from nltk.tokenize import sent_tokenize\n",
    "\n",
    "def chunk_text_sentences(text):\n",
    "    sentences = sent_tokenize(text)\n",
    "    return sentences\n",
    "\n",
    "def chunk_text_paragraphs(text):\n",
    "    paragraphs = text.split('\\n\\n')\n",
    "    return paragraphs\n",
    "    \n",
    "dataset = dataset.map(lambda x: {\n",
    "    'fixed_length_chunks': chunk_text_fixed_length(x['text']),\n",
    "    'sentence_chunks': chunk_text_sentences(x['text']),\n",
    "    'paragraph_chunks': chunk_text_paragraphs(x['text'])\n",
    "})\n"
   ]
  },
  {
   "cell_type": "code",
   "execution_count": 33,
   "id": "dd552e2b-1326-4b75-9a24-a2cb57200914",
   "metadata": {},
   "outputs": [
    {
     "data": {
      "application/vnd.jupyter.widget-view+json": {
       "model_id": "1daff6dddacf4982ab6be7dc5c90eee5",
       "version_major": 2,
       "version_minor": 0
      },
      "text/plain": [
       "Map:   0%|          | 0/250 [00:00<?, ? examples/s]"
      ]
     },
     "metadata": {},
     "output_type": "display_data"
    }
   ],
   "source": [
    "def calculate_information_density(text_chunk):\n",
    "    return len(text_chunk)\n",
    "\n",
    "dataset = dataset.map(lambda x: {\n",
    "    'fixed_length_chunk_density': [calculate_information_density(chunk) for chunk in x['fixed_length_chunks']],\n",
    "    'sentence_chunk_density': [calculate_information_density(chunk) for chunk in x['sentence_chunks']],\n",
    "    'paragraph_chunk_density': [calculate_information_density(chunk) for chunk in x['paragraph_chunks']]\n",
    "})\n"
   ]
  },
  {
   "cell_type": "code",
   "execution_count": 34,
   "id": "316d16ea-dc88-4b92-bbf9-c0b20c9b0c11",
   "metadata": {},
   "outputs": [
    {
     "name": "stdout",
     "output_type": "stream",
     "text": [
      "Fixed-length chunks density: 409.80421443001444\n",
      "Sentence-based chunks density: 137.92463026789432\n",
      "Paragraph-based chunks density: 1272.572\n"
     ]
    }
   ],
   "source": [
    "fixed_length_density = [sum(x['fixed_length_chunk_density']) / len(x['fixed_length_chunk_density']) for x in dataset]\n",
    "sentence_density = [sum(x['sentence_chunk_density']) / len(x['sentence_chunk_density']) for x in dataset]\n",
    "paragraph_density = [sum(x['paragraph_chunk_density']) / len(x['paragraph_chunk_density']) for x in dataset]\n",
    "\n",
    "print(f\"Fixed-length chunks density: {sum(fixed_length_density) / len(fixed_length_density)}\")\n",
    "print(f\"Sentence-based chunks density: {sum(sentence_density) / len(sentence_density)}\")\n",
    "print(f\"Paragraph-based chunks density: {sum(paragraph_density) / len(paragraph_density)}\")"
   ]
  },
  {
   "cell_type": "code",
   "execution_count": 10,
   "id": "eafb7922-7596-4940-a5e0-3258cb16445a",
   "metadata": {},
   "outputs": [],
   "source": [
    "from sklearn.feature_extraction.text import TfidfVectorizer\n",
    "from sklearn.metrics.pairwise import cosine_similarity\n",
    "import numpy as np"
   ]
  },
  {
   "cell_type": "code",
   "execution_count": 12,
   "id": "b93a26fb-ccb4-42d6-8553-601a4b8a0f31",
   "metadata": {},
   "outputs": [],
   "source": [
    "def calculate_semantic_coherence(chunks):\n",
    "    vectorizer = TfidfVectorizer()\n",
    "    tfidf_matrix = vectorizer.fit_transform(chunks)\n",
    "    coherence_scores = []\n",
    "    for i in range(len(chunks) - 1):\n",
    "        vec1 = tfidf_matrix[i]\n",
    "        vec2 = tfidf_matrix[i + 1]\n",
    "        coherence = cosine_similarity(vec1, vec2)[0][0]\n",
    "        coherence_scores.append(coherence)\n",
    "    return coherence_scores"
   ]
  },
  {
   "cell_type": "code",
   "execution_count": 35,
   "id": "93d28289-2b88-4572-a1e9-f3e5311fc7ea",
   "metadata": {},
   "outputs": [
    {
     "data": {
      "application/vnd.jupyter.widget-view+json": {
       "model_id": "2435a3be88dc4457bbaad1f5e99d6a3f",
       "version_major": 2,
       "version_minor": 0
      },
      "text/plain": [
       "Map:   0%|          | 0/250 [00:00<?, ? examples/s]"
      ]
     },
     "metadata": {},
     "output_type": "display_data"
    }
   ],
   "source": [
    "dataset = dataset.map(lambda x: {\n",
    "    'fixed_length_chunk_coherence': calculate_semantic_coherence(x['fixed_length_chunks']),\n",
    "    'sentence_chunk_coherence': calculate_semantic_coherence(x['sentence_chunks']),\n",
    "    \n",
    "})"
   ]
  },
  {
   "cell_type": "code",
   "execution_count": 36,
   "id": "3ae46224-b81c-4976-a5fd-0fe7d94f8c4c",
   "metadata": {},
   "outputs": [
    {
     "name": "stdout",
     "output_type": "stream",
     "text": [
      "Fixed-length chunks coherence: 0.24840265577300588\n",
      "Sentence-based chunks coherence: 0.0969128254189781\n"
     ]
    }
   ],
   "source": [
    "fixed_length_coherence = [sum(x['fixed_length_chunk_coherence']) / len(x['fixed_length_chunk_coherence']) for x in dataset if len(x['fixed_length_chunk_coherence']) > 0]\n",
    "sentence_coherence = [sum(x['sentence_chunk_coherence']) / len(x['sentence_chunk_coherence']) for x in dataset if len(x['sentence_chunk_coherence']) > 0]\n",
    "paragraph_coherence = [sum(x['paragraph_chunk_coherence']) / len(x['paragraph_chunk_coherence']) for x in dataset if len(x['paragraph_chunk_coherence']) > 0]\n",
    "\n",
    "print(f\"Fixed-length chunks coherence: {sum(fixed_length_coherence) / len(fixed_length_coherence)}\")\n",
    "print(f\"Sentence-based chunks coherence: {sum(sentence_coherence) / len(sentence_coherence)}\")\n"
   ]
  },
  {
   "cell_type": "code",
   "execution_count": 16,
   "id": "08637e3e-9ecb-480b-a657-66ace5191305",
   "metadata": {},
   "outputs": [],
   "source": [
    "def calculate_context_overlap(chunks, top_n=5):\n",
    "    vectorizer = TfidfVectorizer()\n",
    "    tfidf_matrix = vectorizer.fit_transform(chunks)\n",
    "    feature_names = vectorizer.get_feature_names_out()\n",
    "    context_overlap_scores = []\n",
    "    for i in range(len(chunks) - 1):\n",
    "        chunk1_top_words = set([feature_names[idx] for idx in np.argsort(tfidf_matrix[i].toarray())[0][-top_n:]])\n",
    "        chunk2_top_words = set([feature_names[idx] for idx in np.argsort(tfidf_matrix[i + 1].toarray())[0][-top_n:]])\n",
    "        overlap = chunk1_top_words.intersection(chunk2_top_words)\n",
    "        context_overlap_scores.append(len(overlap) / top_n)\n",
    "    return context_overlap_scores"
   ]
  },
  {
   "cell_type": "code",
   "execution_count": 37,
   "id": "fa0c5403-1a97-469e-bc87-b5b99725a6ad",
   "metadata": {},
   "outputs": [
    {
     "data": {
      "application/vnd.jupyter.widget-view+json": {
       "model_id": "2a1801526de94e5bbe26f70537a5e7c7",
       "version_major": 2,
       "version_minor": 0
      },
      "text/plain": [
       "Map:   0%|          | 0/250 [00:00<?, ? examples/s]"
      ]
     },
     "metadata": {},
     "output_type": "display_data"
    }
   ],
   "source": [
    "dataset = dataset.map(lambda x: {\n",
    "    'fixed_length_chunk_overlap': calculate_context_overlap(x['fixed_length_chunks']),\n",
    "    'sentence_chunk_overlap': calculate_context_overlap(x['sentence_chunks']),\n",
    "    \n",
    "})"
   ]
  },
  {
   "cell_type": "code",
   "execution_count": 38,
   "id": "7e36740d-7a72-4bbb-bf90-492d052066ad",
   "metadata": {},
   "outputs": [
    {
     "name": "stdout",
     "output_type": "stream",
     "text": [
      "Fixed-length chunks overlap: 0.19180767855546615\n",
      "Sentence-based chunks overlap: 0.04878517704614819\n"
     ]
    }
   ],
   "source": [
    "fixed_length_overlap = [sum(x['fixed_length_chunk_overlap']) / len(x['fixed_length_chunk_overlap']) for x in dataset if len(x['fixed_length_chunk_overlap']) > 0]\n",
    "sentence_overlap = [sum(x['sentence_chunk_overlap']) / len(x['sentence_chunk_overlap']) for x in dataset if len(x['sentence_chunk_overlap']) > 0]\n",
    "paragraph_overlap = [sum(x['paragraph_chunk_overlap']) / len(x['paragraph_chunk_overlap']) for x in dataset if len(x['paragraph_chunk_overlap']) > 0]\n",
    "\n",
    "print(f\"Fixed-length chunks overlap: {sum(fixed_length_overlap) / len(fixed_length_overlap)}\")\n",
    "print(f\"Sentence-based chunks overlap: {sum(sentence_overlap) / len(sentence_overlap)}\")\n"
   ]
  },
  {
   "cell_type": "code",
   "execution_count": 31,
   "id": "441765df-5ff2-43c4-a2a2-f1e7d6e9adcd",
   "metadata": {},
   "outputs": [
    {
     "name": "stdout",
     "output_type": "stream",
     "text": [
      "['text', 'label', 'text_chunks', 'sentence_chunks', 'paragraph_chunks', 'text_chunk_density', 'sentence_chunk_density', 'paragraph_chunk_density', 'text_chunk_coherence', 'sentence_chunk_coherence', 'paragraph_chunk_coherence', 'text_chunk_overlap', 'sentence_chunk_overlap', 'paragraph_chunk_overlap']\n"
     ]
    }
   ],
   "source": [
    "print(dataset.column_names)"
   ]
  },
  {
   "cell_type": "code",
   "execution_count": 23,
   "id": "1f82bba0-3925-468a-b005-92263e7c6751",
   "metadata": {},
   "outputs": [
    {
     "name": "stdout",
     "output_type": "stream",
     "text": [
      "Requirement already satisfied: nltk in c:\\users\\ayush\\anaconda3\\lib\\site-packages (3.8.1)\n",
      "Requirement already satisfied: click in c:\\users\\ayush\\anaconda3\\lib\\site-packages (from nltk) (8.1.7)\n",
      "Requirement already satisfied: joblib in c:\\users\\ayush\\anaconda3\\lib\\site-packages (from nltk) (1.4.2)\n",
      "Requirement already satisfied: regex>=2021.8.3 in c:\\users\\ayush\\anaconda3\\lib\\site-packages (from nltk) (2023.10.3)\n",
      "Requirement already satisfied: tqdm in c:\\users\\ayush\\anaconda3\\lib\\site-packages (from nltk) (4.66.4)\n",
      "Requirement already satisfied: colorama in c:\\users\\ayush\\anaconda3\\lib\\site-packages (from click->nltk) (0.4.6)\n",
      "Collecting transformers\n",
      "  Downloading transformers-4.47.1-py3-none-any.whl.metadata (44 kB)\n",
      "     ---------------------------------------- 0.0/44.1 kB ? eta -:--:--\n",
      "     ----------------- -------------------- 20.5/44.1 kB 682.7 kB/s eta 0:00:01\n",
      "     ----------------------------------- -- 41.0/44.1 kB 667.8 kB/s eta 0:00:01\n",
      "     -------------------------------------- 44.1/44.1 kB 363.9 kB/s eta 0:00:00\n",
      "Requirement already satisfied: filelock in c:\\users\\ayush\\anaconda3\\lib\\site-packages (from transformers) (3.13.1)\n",
      "Requirement already satisfied: huggingface-hub<1.0,>=0.24.0 in c:\\users\\ayush\\anaconda3\\lib\\site-packages (from transformers) (0.27.0)\n",
      "Requirement already satisfied: numpy>=1.17 in c:\\users\\ayush\\anaconda3\\lib\\site-packages (from transformers) (1.26.4)\n",
      "Requirement already satisfied: packaging>=20.0 in c:\\users\\ayush\\anaconda3\\lib\\site-packages (from transformers) (23.2)\n",
      "Requirement already satisfied: pyyaml>=5.1 in c:\\users\\ayush\\anaconda3\\lib\\site-packages (from transformers) (6.0.1)\n",
      "Requirement already satisfied: regex!=2019.12.17 in c:\\users\\ayush\\anaconda3\\lib\\site-packages (from transformers) (2023.10.3)\n",
      "Requirement already satisfied: requests in c:\\users\\ayush\\anaconda3\\lib\\site-packages (from transformers) (2.32.2)\n",
      "Collecting tokenizers<0.22,>=0.21 (from transformers)\n",
      "  Downloading tokenizers-0.21.0-cp39-abi3-win_amd64.whl.metadata (6.9 kB)\n",
      "Collecting safetensors>=0.4.1 (from transformers)\n",
      "  Downloading safetensors-0.4.5-cp312-none-win_amd64.whl.metadata (3.9 kB)\n",
      "Requirement already satisfied: tqdm>=4.27 in c:\\users\\ayush\\anaconda3\\lib\\site-packages (from transformers) (4.66.4)\n",
      "Requirement already satisfied: fsspec>=2023.5.0 in c:\\users\\ayush\\anaconda3\\lib\\site-packages (from huggingface-hub<1.0,>=0.24.0->transformers) (2024.3.1)\n",
      "Requirement already satisfied: typing-extensions>=3.7.4.3 in c:\\users\\ayush\\anaconda3\\lib\\site-packages (from huggingface-hub<1.0,>=0.24.0->transformers) (4.11.0)\n",
      "Requirement already satisfied: colorama in c:\\users\\ayush\\anaconda3\\lib\\site-packages (from tqdm>=4.27->transformers) (0.4.6)\n",
      "Requirement already satisfied: charset-normalizer<4,>=2 in c:\\users\\ayush\\anaconda3\\lib\\site-packages (from requests->transformers) (2.0.4)\n",
      "Requirement already satisfied: idna<4,>=2.5 in c:\\users\\ayush\\anaconda3\\lib\\site-packages (from requests->transformers) (3.7)\n",
      "Requirement already satisfied: urllib3<3,>=1.21.1 in c:\\users\\ayush\\anaconda3\\lib\\site-packages (from requests->transformers) (2.2.2)\n",
      "Requirement already satisfied: certifi>=2017.4.17 in c:\\users\\ayush\\anaconda3\\lib\\site-packages (from requests->transformers) (2024.6.2)\n",
      "Downloading transformers-4.47.1-py3-none-any.whl (10.1 MB)\n",
      "   ---------------------------------------- 0.0/10.1 MB ? eta -:--:--\n",
      "    --------------------------------------- 0.2/10.1 MB 6.9 MB/s eta 0:00:02\n",
      "   --- ------------------------------------ 0.8/10.1 MB 12.7 MB/s eta 0:00:01\n",
      "   ------ --------------------------------- 1.7/10.1 MB 13.5 MB/s eta 0:00:01\n",
      "   ---------- ----------------------------- 2.7/10.1 MB 15.5 MB/s eta 0:00:01\n",
      "   ---------------- ----------------------- 4.3/10.1 MB 18.3 MB/s eta 0:00:01\n",
      "   --------------------- ------------------ 5.3/10.1 MB 18.0 MB/s eta 0:00:01\n",
      "   ----------------------------- ---------- 7.4/10.1 MB 19.0 MB/s eta 0:00:01\n",
      "   ------------------------------------- -- 9.5/10.1 MB 20.2 MB/s eta 0:00:01\n",
      "   ---------------------------------------  10.1/10.1 MB 20.2 MB/s eta 0:00:01\n",
      "   ---------------------------------------- 10.1/10.1 MB 18.5 MB/s eta 0:00:00\n",
      "Downloading safetensors-0.4.5-cp312-none-win_amd64.whl (286 kB)\n",
      "   ---------------------------------------- 0.0/286.3 kB ? eta -:--:--\n",
      "   ---------------------------------------- 286.3/286.3 kB 5.9 MB/s eta 0:00:00\n",
      "Downloading tokenizers-0.21.0-cp39-abi3-win_amd64.whl (2.4 MB)\n",
      "   ---------------------------------------- 0.0/2.4 MB ? eta -:--:--\n",
      "   -------------- ------------------------- 0.8/2.4 MB 17.9 MB/s eta 0:00:01\n",
      "   ------------------------------ --------- 1.8/2.4 MB 16.7 MB/s eta 0:00:01\n",
      "   ---------------------------------------- 2.4/2.4 MB 15.2 MB/s eta 0:00:00\n",
      "Installing collected packages: safetensors, tokenizers, transformers\n",
      "Successfully installed safetensors-0.4.5 tokenizers-0.21.0 transformers-4.47.1\n",
      "Collecting torch\n",
      "  Downloading torch-2.5.1-cp312-cp312-win_amd64.whl.metadata (28 kB)\n",
      "Requirement already satisfied: filelock in c:\\users\\ayush\\anaconda3\\lib\\site-packages (from torch) (3.13.1)\n",
      "Requirement already satisfied: typing-extensions>=4.8.0 in c:\\users\\ayush\\anaconda3\\lib\\site-packages (from torch) (4.11.0)\n",
      "Requirement already satisfied: networkx in c:\\users\\ayush\\anaconda3\\lib\\site-packages (from torch) (3.2.1)\n",
      "Requirement already satisfied: jinja2 in c:\\users\\ayush\\anaconda3\\lib\\site-packages (from torch) (3.1.4)\n",
      "Requirement already satisfied: fsspec in c:\\users\\ayush\\anaconda3\\lib\\site-packages (from torch) (2024.3.1)\n",
      "Requirement already satisfied: setuptools in c:\\users\\ayush\\anaconda3\\lib\\site-packages (from torch) (69.5.1)\n",
      "Collecting sympy==1.13.1 (from torch)\n",
      "  Downloading sympy-1.13.1-py3-none-any.whl.metadata (12 kB)\n",
      "Requirement already satisfied: mpmath<1.4,>=1.1.0 in c:\\users\\ayush\\anaconda3\\lib\\site-packages (from sympy==1.13.1->torch) (1.3.0)\n",
      "Requirement already satisfied: MarkupSafe>=2.0 in c:\\users\\ayush\\anaconda3\\lib\\site-packages (from jinja2->torch) (2.1.3)\n",
      "Downloading torch-2.5.1-cp312-cp312-win_amd64.whl (203.0 MB)\n",
      "   ---------------------------------------- 0.0/203.0 MB ? eta -:--:--\n",
      "   ---------------------------------------- 0.5/203.0 MB 16.5 MB/s eta 0:00:13\n",
      "   ---------------------------------------- 1.4/203.0 MB 14.6 MB/s eta 0:00:14\n",
      "   ---------------------------------------- 2.1/203.0 MB 16.6 MB/s eta 0:00:13\n",
      "    --------------------------------------- 3.5/203.0 MB 20.2 MB/s eta 0:00:10\n",
      "    --------------------------------------- 4.7/203.0 MB 21.4 MB/s eta 0:00:10\n",
      "   - -------------------------------------- 5.5/203.0 MB 19.6 MB/s eta 0:00:11\n",
      "   - -------------------------------------- 6.4/203.0 MB 20.3 MB/s eta 0:00:10\n",
      "   - -------------------------------------- 7.3/203.0 MB 19.4 MB/s eta 0:00:11\n",
      "   - -------------------------------------- 8.2/203.0 MB 19.4 MB/s eta 0:00:11\n",
      "   - -------------------------------------- 9.1/203.0 MB 19.5 MB/s eta 0:00:10\n",
      "   - -------------------------------------- 9.2/203.0 MB 19.0 MB/s eta 0:00:11\n",
      "   -- ------------------------------------- 10.5/203.0 MB 18.7 MB/s eta 0:00:11\n",
      "   -- ------------------------------------- 11.5/203.0 MB 18.7 MB/s eta 0:00:11\n",
      "   -- ------------------------------------- 12.4/203.0 MB 19.8 MB/s eta 0:00:10\n",
      "   -- ------------------------------------- 13.3/203.0 MB 18.7 MB/s eta 0:00:11\n",
      "   -- ------------------------------------- 14.2/203.0 MB 18.7 MB/s eta 0:00:11\n",
      "   -- ------------------------------------- 15.1/203.0 MB 17.7 MB/s eta 0:00:11\n",
      "   --- ------------------------------------ 16.1/203.0 MB 18.2 MB/s eta 0:00:11\n",
      "   --- ------------------------------------ 17.0/203.0 MB 17.7 MB/s eta 0:00:11\n",
      "   --- ------------------------------------ 17.7/203.0 MB 17.2 MB/s eta 0:00:11\n",
      "   --- ------------------------------------ 18.9/203.0 MB 18.2 MB/s eta 0:00:11\n",
      "   --- ------------------------------------ 19.8/203.0 MB 19.8 MB/s eta 0:00:10\n",
      "   ---- ----------------------------------- 20.7/203.0 MB 19.8 MB/s eta 0:00:10\n",
      "   ---- ----------------------------------- 21.6/203.0 MB 19.3 MB/s eta 0:00:10\n",
      "   ---- ----------------------------------- 22.6/203.0 MB 19.3 MB/s eta 0:00:10\n",
      "   ---- ----------------------------------- 23.5/203.0 MB 19.3 MB/s eta 0:00:10\n",
      "   ---- ----------------------------------- 24.5/203.0 MB 19.3 MB/s eta 0:00:10\n",
      "   ----- ---------------------------------- 25.4/203.0 MB 19.8 MB/s eta 0:00:09\n",
      "   ----- ---------------------------------- 26.3/203.0 MB 19.8 MB/s eta 0:00:09\n",
      "   ----- ---------------------------------- 27.2/203.0 MB 19.2 MB/s eta 0:00:10\n",
      "   ----- ---------------------------------- 28.1/203.0 MB 19.3 MB/s eta 0:00:10\n",
      "   ----- ---------------------------------- 30.0/203.0 MB 19.3 MB/s eta 0:00:09\n",
      "   ------ --------------------------------- 30.9/203.0 MB 18.7 MB/s eta 0:00:10\n",
      "   ------ --------------------------------- 31.9/203.0 MB 18.7 MB/s eta 0:00:10\n",
      "   ------ --------------------------------- 32.8/203.0 MB 19.3 MB/s eta 0:00:09\n",
      "   ------ --------------------------------- 33.7/203.0 MB 19.2 MB/s eta 0:00:09\n",
      "   ------ --------------------------------- 34.7/203.0 MB 18.7 MB/s eta 0:00:10\n",
      "   ------- -------------------------------- 35.7/203.0 MB 18.7 MB/s eta 0:00:09\n",
      "   ------- -------------------------------- 36.9/203.0 MB 19.8 MB/s eta 0:00:09\n",
      "   ------- -------------------------------- 37.7/203.0 MB 19.3 MB/s eta 0:00:09\n",
      "   ------- -------------------------------- 38.7/203.0 MB 19.9 MB/s eta 0:00:09\n",
      "   ------- -------------------------------- 39.5/203.0 MB 19.3 MB/s eta 0:00:09\n",
      "   ------- -------------------------------- 40.5/203.0 MB 19.3 MB/s eta 0:00:09\n",
      "   -------- ------------------------------- 41.7/203.0 MB 19.2 MB/s eta 0:00:09\n",
      "   -------- ------------------------------- 42.6/203.0 MB 19.3 MB/s eta 0:00:09\n",
      "   -------- ------------------------------- 43.2/203.0 MB 19.3 MB/s eta 0:00:09\n",
      "   -------- ------------------------------- 44.5/203.0 MB 19.3 MB/s eta 0:00:09\n",
      "   -------- ------------------------------- 45.4/203.0 MB 19.8 MB/s eta 0:00:08\n",
      "   --------- ------------------------------ 46.3/203.0 MB 18.7 MB/s eta 0:00:09\n",
      "   --------- ------------------------------ 47.0/203.0 MB 18.2 MB/s eta 0:00:09\n",
      "   --------- ------------------------------ 47.5/203.0 MB 17.2 MB/s eta 0:00:10\n",
      "   --------- ------------------------------ 49.5/203.0 MB 18.7 MB/s eta 0:00:09\n",
      "   --------- ------------------------------ 50.5/203.0 MB 18.2 MB/s eta 0:00:09\n",
      "   ---------- ----------------------------- 51.4/203.0 MB 19.3 MB/s eta 0:00:08\n",
      "   ---------- ----------------------------- 52.3/203.0 MB 18.2 MB/s eta 0:00:09\n",
      "   ---------- ----------------------------- 53.1/203.0 MB 18.7 MB/s eta 0:00:09\n",
      "   ---------- ----------------------------- 54.0/203.0 MB 19.3 MB/s eta 0:00:08\n",
      "   ---------- ----------------------------- 54.7/203.0 MB 18.7 MB/s eta 0:00:08\n",
      "   ---------- ----------------------------- 55.7/203.0 MB 18.7 MB/s eta 0:00:08\n",
      "   ----------- ---------------------------- 56.7/203.0 MB 18.2 MB/s eta 0:00:09\n",
      "   ----------- ---------------------------- 57.5/203.0 MB 19.2 MB/s eta 0:00:08\n",
      "   ----------- ---------------------------- 58.4/203.0 MB 19.3 MB/s eta 0:00:08\n",
      "   ----------- ---------------------------- 59.2/203.0 MB 18.2 MB/s eta 0:00:08\n",
      "   ----------- ---------------------------- 60.2/203.0 MB 18.2 MB/s eta 0:00:08\n",
      "   ------------ --------------------------- 61.1/203.0 MB 18.2 MB/s eta 0:00:08\n",
      "   ------------ --------------------------- 62.0/203.0 MB 18.2 MB/s eta 0:00:08\n",
      "   ------------ --------------------------- 63.0/203.0 MB 18.2 MB/s eta 0:00:08\n",
      "   ------------ --------------------------- 64.0/203.0 MB 18.2 MB/s eta 0:00:08\n",
      "   ------------ --------------------------- 65.2/203.0 MB 18.2 MB/s eta 0:00:08\n",
      "   ------------- -------------------------- 66.2/203.0 MB 18.7 MB/s eta 0:00:08\n",
      "   ------------- -------------------------- 67.1/203.0 MB 18.7 MB/s eta 0:00:08\n",
      "   ------------- -------------------------- 68.0/203.0 MB 18.7 MB/s eta 0:00:08\n",
      "   ------------- -------------------------- 68.8/203.0 MB 18.7 MB/s eta 0:00:08\n",
      "   ------------- -------------------------- 69.6/203.0 MB 18.7 MB/s eta 0:00:08\n",
      "   ------------- -------------------------- 70.4/203.0 MB 18.2 MB/s eta 0:00:08\n",
      "   -------------- ------------------------- 71.2/203.0 MB 18.2 MB/s eta 0:00:08\n",
      "   -------------- ------------------------- 71.7/203.0 MB 17.7 MB/s eta 0:00:08\n",
      "   -------------- ------------------------- 72.7/203.0 MB 17.7 MB/s eta 0:00:08\n",
      "   -------------- ------------------------- 73.2/203.0 MB 17.2 MB/s eta 0:00:08\n",
      "   -------------- ------------------------- 74.1/203.0 MB 17.2 MB/s eta 0:00:08\n",
      "   -------------- ------------------------- 74.9/203.0 MB 17.7 MB/s eta 0:00:08\n",
      "   -------------- ------------------------- 75.9/203.0 MB 17.2 MB/s eta 0:00:08\n",
      "   --------------- ------------------------ 76.8/203.0 MB 17.2 MB/s eta 0:00:08\n",
      "   --------------- ------------------------ 77.7/203.0 MB 17.2 MB/s eta 0:00:08\n",
      "   --------------- ------------------------ 78.7/203.0 MB 17.3 MB/s eta 0:00:08\n",
      "   --------------- ------------------------ 79.9/203.0 MB 17.7 MB/s eta 0:00:07\n",
      "   --------------- ------------------------ 80.8/203.0 MB 17.7 MB/s eta 0:00:07\n",
      "   ---------------- ----------------------- 81.8/203.0 MB 17.7 MB/s eta 0:00:07\n",
      "   ---------------- ----------------------- 82.7/203.0 MB 18.2 MB/s eta 0:00:07\n",
      "   ---------------- ----------------------- 83.6/203.0 MB 19.9 MB/s eta 0:00:07\n",
      "   ---------------- ----------------------- 84.4/203.0 MB 18.7 MB/s eta 0:00:07\n",
      "   ---------------- ----------------------- 85.7/203.0 MB 18.7 MB/s eta 0:00:07\n",
      "   ----------------- ---------------------- 86.4/203.0 MB 19.2 MB/s eta 0:00:07\n",
      "   ----------------- ---------------------- 87.5/203.0 MB 18.7 MB/s eta 0:00:07\n",
      "   ----------------- ---------------------- 88.2/203.0 MB 18.7 MB/s eta 0:00:07\n",
      "   ----------------- ---------------------- 89.1/203.0 MB 18.7 MB/s eta 0:00:07\n",
      "   ----------------- ---------------------- 90.0/203.0 MB 18.7 MB/s eta 0:00:07\n",
      "   ----------------- ---------------------- 91.0/203.0 MB 18.7 MB/s eta 0:00:06\n",
      "   ------------------ --------------------- 92.2/203.0 MB 18.7 MB/s eta 0:00:06\n",
      "   ------------------ --------------------- 93.2/203.0 MB 18.7 MB/s eta 0:00:06\n",
      "   ------------------ --------------------- 94.3/203.0 MB 17.7 MB/s eta 0:00:07\n",
      "   ------------------ --------------------- 95.2/203.0 MB 18.7 MB/s eta 0:00:06\n",
      "   ------------------ --------------------- 96.0/203.0 MB 18.2 MB/s eta 0:00:06\n",
      "   ------------------- -------------------- 97.6/203.0 MB 18.2 MB/s eta 0:00:06\n",
      "   ------------------- -------------------- 98.6/203.0 MB 18.2 MB/s eta 0:00:06\n",
      "   ------------------- -------------------- 99.9/203.0 MB 18.7 MB/s eta 0:00:06\n",
      "   ------------------- ------------------- 100.9/203.0 MB 18.2 MB/s eta 0:00:06\n",
      "   ------------------- ------------------- 101.8/203.0 MB 17.7 MB/s eta 0:00:06\n",
      "   ------------------- ------------------- 102.7/203.0 MB 17.7 MB/s eta 0:00:06\n",
      "   ------------------- ------------------- 103.9/203.0 MB 18.7 MB/s eta 0:00:06\n",
      "   -------------------- ------------------ 105.3/203.0 MB 18.2 MB/s eta 0:00:06\n",
      "   -------------------- ------------------ 106.4/203.0 MB 18.7 MB/s eta 0:00:06\n",
      "   -------------------- ------------------ 107.0/203.0 MB 18.2 MB/s eta 0:00:06\n",
      "   -------------------- ------------------ 107.8/203.0 MB 17.7 MB/s eta 0:00:06\n",
      "   -------------------- ------------------ 108.7/203.0 MB 17.7 MB/s eta 0:00:06\n",
      "   --------------------- ----------------- 109.6/203.0 MB 17.7 MB/s eta 0:00:06\n",
      "   --------------------- ----------------- 110.4/203.0 MB 17.7 MB/s eta 0:00:06\n",
      "   --------------------- ----------------- 111.2/203.0 MB 18.2 MB/s eta 0:00:06\n",
      "   --------------------- ----------------- 112.1/203.0 MB 17.2 MB/s eta 0:00:06\n",
      "   --------------------- ----------------- 113.2/203.0 MB 17.7 MB/s eta 0:00:06\n",
      "   --------------------- ----------------- 114.4/203.0 MB 17.2 MB/s eta 0:00:06\n",
      "   ---------------------- ---------------- 115.2/203.0 MB 17.2 MB/s eta 0:00:06\n",
      "   ---------------------- ---------------- 116.3/203.0 MB 17.7 MB/s eta 0:00:05\n",
      "   ---------------------- ---------------- 117.1/203.0 MB 17.7 MB/s eta 0:00:05\n",
      "   ---------------------- ---------------- 118.1/203.0 MB 18.2 MB/s eta 0:00:05\n",
      "   ---------------------- ---------------- 118.9/203.0 MB 17.3 MB/s eta 0:00:05\n",
      "   ----------------------- --------------- 119.8/203.0 MB 17.3 MB/s eta 0:00:05\n",
      "   ----------------------- --------------- 120.6/203.0 MB 17.7 MB/s eta 0:00:05\n",
      "   ----------------------- --------------- 121.6/203.0 MB 17.2 MB/s eta 0:00:05\n",
      "   ----------------------- --------------- 122.4/203.0 MB 17.7 MB/s eta 0:00:05\n",
      "   ----------------------- --------------- 123.6/203.0 MB 18.2 MB/s eta 0:00:05\n",
      "   ----------------------- --------------- 124.8/203.0 MB 18.2 MB/s eta 0:00:05\n",
      "   ------------------------ -------------- 125.8/203.0 MB 18.2 MB/s eta 0:00:05\n",
      "   ------------------------ -------------- 126.5/203.0 MB 17.7 MB/s eta 0:00:05\n",
      "   ------------------------ -------------- 127.4/203.0 MB 17.7 MB/s eta 0:00:05\n",
      "   ------------------------ -------------- 128.2/203.0 MB 18.2 MB/s eta 0:00:05\n",
      "   ------------------------ -------------- 129.1/203.0 MB 17.7 MB/s eta 0:00:05\n",
      "   ------------------------ -------------- 130.0/203.0 MB 18.7 MB/s eta 0:00:04\n",
      "   ------------------------- ------------- 131.0/203.0 MB 18.2 MB/s eta 0:00:04\n",
      "   ------------------------- ------------- 131.7/203.0 MB 17.7 MB/s eta 0:00:05\n",
      "   ------------------------- ------------- 132.8/203.0 MB 19.3 MB/s eta 0:00:04\n",
      "   ------------------------- ------------- 134.0/203.0 MB 18.7 MB/s eta 0:00:04\n",
      "   ------------------------- ------------- 135.0/203.0 MB 18.7 MB/s eta 0:00:04\n",
      "   -------------------------- ------------ 135.9/203.0 MB 18.7 MB/s eta 0:00:04\n",
      "   -------------------------- ------------ 137.1/203.0 MB 18.7 MB/s eta 0:00:04\n",
      "   -------------------------- ------------ 138.3/203.0 MB 19.2 MB/s eta 0:00:04\n",
      "   -------------------------- ------------ 139.6/203.0 MB 19.9 MB/s eta 0:00:04\n",
      "   --------------------------- ----------- 140.6/203.0 MB 19.8 MB/s eta 0:00:04\n",
      "   --------------------------- ----------- 141.2/203.0 MB 18.7 MB/s eta 0:00:04\n",
      "   --------------------------- ----------- 142.4/203.0 MB 19.3 MB/s eta 0:00:04\n",
      "   --------------------------- ----------- 143.6/203.0 MB 19.3 MB/s eta 0:00:04\n",
      "   --------------------------- ----------- 144.5/203.0 MB 20.5 MB/s eta 0:00:03\n",
      "   --------------------------- ----------- 145.4/203.0 MB 19.3 MB/s eta 0:00:03\n",
      "   ---------------------------- ---------- 146.4/203.0 MB 19.8 MB/s eta 0:00:03\n",
      "   ---------------------------- ---------- 147.4/203.0 MB 19.9 MB/s eta 0:00:03\n",
      "   ---------------------------- ---------- 148.3/203.0 MB 19.3 MB/s eta 0:00:03\n",
      "   ---------------------------- ---------- 149.2/203.0 MB 19.9 MB/s eta 0:00:03\n",
      "   ---------------------------- ---------- 150.1/203.0 MB 19.3 MB/s eta 0:00:03\n",
      "   ----------------------------- --------- 151.0/203.0 MB 19.3 MB/s eta 0:00:03\n",
      "   ----------------------------- --------- 152.3/203.0 MB 20.5 MB/s eta 0:00:03\n",
      "   ----------------------------- --------- 153.2/203.0 MB 19.3 MB/s eta 0:00:03\n",
      "   ----------------------------- --------- 154.1/203.0 MB 19.3 MB/s eta 0:00:03\n",
      "   ----------------------------- --------- 155.0/203.0 MB 19.3 MB/s eta 0:00:03\n",
      "   ----------------------------- --------- 156.0/203.0 MB 19.8 MB/s eta 0:00:03\n",
      "   ------------------------------ -------- 157.2/203.0 MB 19.3 MB/s eta 0:00:03\n",
      "   ------------------------------ -------- 158.2/203.0 MB 19.9 MB/s eta 0:00:03\n",
      "   ------------------------------ -------- 159.1/203.0 MB 19.9 MB/s eta 0:00:03\n",
      "   ------------------------------ -------- 160.3/203.0 MB 19.8 MB/s eta 0:00:03\n",
      "   ------------------------------ -------- 161.3/203.0 MB 19.8 MB/s eta 0:00:03\n",
      "   ------------------------------- ------- 162.2/203.0 MB 19.3 MB/s eta 0:00:03\n",
      "   ------------------------------- ------- 163.2/203.0 MB 19.3 MB/s eta 0:00:03\n",
      "   ------------------------------- ------- 164.3/203.0 MB 18.7 MB/s eta 0:00:03\n",
      "   ------------------------------- ------- 165.2/203.0 MB 19.3 MB/s eta 0:00:02\n",
      "   ------------------------------- ------- 166.5/203.0 MB 19.3 MB/s eta 0:00:02\n",
      "   -------------------------------- ------ 167.4/203.0 MB 19.2 MB/s eta 0:00:02\n",
      "   -------------------------------- ------ 168.3/203.0 MB 19.2 MB/s eta 0:00:02\n",
      "   -------------------------------- ------ 169.6/203.0 MB 18.7 MB/s eta 0:00:02\n",
      "   -------------------------------- ------ 170.8/203.0 MB 19.2 MB/s eta 0:00:02\n",
      "   -------------------------------- ------ 171.7/203.0 MB 19.3 MB/s eta 0:00:02\n",
      "   --------------------------------- ----- 172.6/203.0 MB 19.3 MB/s eta 0:00:02\n",
      "   --------------------------------- ----- 173.9/203.0 MB 19.3 MB/s eta 0:00:02\n",
      "   --------------------------------- ----- 174.8/203.0 MB 19.2 MB/s eta 0:00:02\n",
      "   --------------------------------- ----- 175.8/203.0 MB 20.5 MB/s eta 0:00:02\n",
      "   --------------------------------- ----- 177.0/203.0 MB 19.8 MB/s eta 0:00:02\n",
      "   ---------------------------------- ---- 178.3/203.0 MB 19.3 MB/s eta 0:00:02\n",
      "   ---------------------------------- ---- 179.2/203.0 MB 19.3 MB/s eta 0:00:02\n",
      "   ---------------------------------- ---- 180.7/203.0 MB 19.3 MB/s eta 0:00:02\n",
      "   ---------------------------------- ---- 181.9/203.0 MB 19.2 MB/s eta 0:00:02\n",
      "   ----------------------------------- --- 182.9/203.0 MB 19.2 MB/s eta 0:00:02\n",
      "   ----------------------------------- --- 183.8/203.0 MB 19.8 MB/s eta 0:00:01\n",
      "   ----------------------------------- --- 184.8/203.0 MB 19.3 MB/s eta 0:00:01\n",
      "   ----------------------------------- --- 185.7/203.0 MB 19.3 MB/s eta 0:00:01\n",
      "   ----------------------------------- --- 186.6/203.0 MB 19.8 MB/s eta 0:00:01\n",
      "   ------------------------------------ -- 187.6/203.0 MB 19.8 MB/s eta 0:00:01\n",
      "   ------------------------------------ -- 188.6/203.0 MB 19.3 MB/s eta 0:00:01\n",
      "   ------------------------------------ -- 189.4/203.0 MB 19.3 MB/s eta 0:00:01\n",
      "   ------------------------------------ -- 190.6/203.0 MB 18.7 MB/s eta 0:00:01\n",
      "   ------------------------------------ -- 191.4/203.0 MB 18.7 MB/s eta 0:00:01\n",
      "   ------------------------------------ -- 192.3/203.0 MB 18.2 MB/s eta 0:00:01\n",
      "   ------------------------------------- - 193.6/203.0 MB 18.7 MB/s eta 0:00:01\n",
      "   ------------------------------------- - 194.5/203.0 MB 18.2 MB/s eta 0:00:01\n",
      "   ------------------------------------- - 195.7/203.0 MB 18.2 MB/s eta 0:00:01\n",
      "   ------------------------------------- - 196.8/203.0 MB 17.2 MB/s eta 0:00:01\n",
      "   ------------------------------------- - 197.7/203.0 MB 17.7 MB/s eta 0:00:01\n",
      "   --------------------------------------  198.8/203.0 MB 18.2 MB/s eta 0:00:01\n",
      "   --------------------------------------  199.7/203.0 MB 18.2 MB/s eta 0:00:01\n",
      "   --------------------------------------  200.5/203.0 MB 18.2 MB/s eta 0:00:01\n",
      "   --------------------------------------  201.4/203.0 MB 17.7 MB/s eta 0:00:01\n",
      "   --------------------------------------  202.4/203.0 MB 18.7 MB/s eta 0:00:01\n",
      "   --------------------------------------  203.0/203.0 MB 18.7 MB/s eta 0:00:01\n",
      "   --------------------------------------  203.0/203.0 MB 18.7 MB/s eta 0:00:01\n",
      "   --------------------------------------  203.0/203.0 MB 18.7 MB/s eta 0:00:01\n",
      "   --------------------------------------  203.0/203.0 MB 18.7 MB/s eta 0:00:01\n",
      "   --------------------------------------  203.0/203.0 MB 18.7 MB/s eta 0:00:01\n",
      "   --------------------------------------  203.0/203.0 MB 18.7 MB/s eta 0:00:01\n",
      "   --------------------------------------  203.0/203.0 MB 18.7 MB/s eta 0:00:01\n",
      "   --------------------------------------  203.0/203.0 MB 18.7 MB/s eta 0:00:01\n",
      "   --------------------------------------  203.0/203.0 MB 18.7 MB/s eta 0:00:01\n",
      "   --------------------------------------  203.0/203.0 MB 18.7 MB/s eta 0:00:01\n",
      "   --------------------------------------  203.0/203.0 MB 18.7 MB/s eta 0:00:01\n",
      "   --------------------------------------  203.0/203.0 MB 18.7 MB/s eta 0:00:01\n",
      "   --------------------------------------  203.0/203.0 MB 18.7 MB/s eta 0:00:01\n",
      "   --------------------------------------  203.0/203.0 MB 18.7 MB/s eta 0:00:01\n",
      "   --------------------------------------  203.0/203.0 MB 18.7 MB/s eta 0:00:01\n",
      "   --------------------------------------  203.0/203.0 MB 18.7 MB/s eta 0:00:01\n",
      "   --------------------------------------  203.0/203.0 MB 18.7 MB/s eta 0:00:01\n",
      "   --------------------------------------  203.0/203.0 MB 18.7 MB/s eta 0:00:01\n",
      "   --------------------------------------  203.0/203.0 MB 18.7 MB/s eta 0:00:01\n",
      "   --------------------------------------  203.0/203.0 MB 18.7 MB/s eta 0:00:01\n",
      "   ---------------------------------------- 203.0/203.0 MB 6.6 MB/s eta 0:00:00\n",
      "Downloading sympy-1.13.1-py3-none-any.whl (6.2 MB)\n",
      "   ---------------------------------------- 0.0/6.2 MB ? eta -:--:--\n",
      "   ------ --------------------------------- 1.1/6.2 MB 34.0 MB/s eta 0:00:01\n",
      "   ----------------- ---------------------- 2.7/6.2 MB 34.0 MB/s eta 0:00:01\n",
      "   --------------------------- ------------ 4.3/6.2 MB 34.5 MB/s eta 0:00:01\n",
      "   ---------------------------------------  6.2/6.2 MB 30.4 MB/s eta 0:00:01\n",
      "   ---------------------------------------  6.2/6.2 MB 30.4 MB/s eta 0:00:01\n",
      "   ---------------------------------------- 6.2/6.2 MB 24.7 MB/s eta 0:00:00\n",
      "Installing collected packages: sympy, torch\n",
      "  Attempting uninstall: sympy\n",
      "    Found existing installation: sympy 1.12\n",
      "    Uninstalling sympy-1.12:\n",
      "      Successfully uninstalled sympy-1.12\n",
      "Successfully installed sympy-1.13.1 torch-2.5.1\n",
      "Requirement already satisfied: scikit-learn in c:\\users\\ayush\\anaconda3\\lib\\site-packages (1.4.2)\n",
      "Requirement already satisfied: numpy>=1.19.5 in c:\\users\\ayush\\anaconda3\\lib\\site-packages (from scikit-learn) (1.26.4)\n",
      "Requirement already satisfied: scipy>=1.6.0 in c:\\users\\ayush\\anaconda3\\lib\\site-packages (from scikit-learn) (1.13.1)\n",
      "Requirement already satisfied: joblib>=1.2.0 in c:\\users\\ayush\\anaconda3\\lib\\site-packages (from scikit-learn) (1.4.2)\n",
      "Requirement already satisfied: threadpoolctl>=2.0.0 in c:\\users\\ayush\\anaconda3\\lib\\site-packages (from scikit-learn) (2.2.0)\n"
     ]
    }
   ],
   "source": [
    "!pip install nltk\n",
    "!pip install transformers\n",
    "!pip install torch\n",
    "!pip install scikit-learn"
   ]
  },
  {
   "cell_type": "code",
   "execution_count": 24,
   "id": "c9485ae7-f4c9-4c3d-8834-dbd59772334b",
   "metadata": {},
   "outputs": [
    {
     "name": "stderr",
     "output_type": "stream",
     "text": [
      "The cache for model files in Transformers v4.22.0 has been updated. Migrating your old cache. This is a one-time only operation. You can interrupt this and resume the migration later on by calling `transformers.utils.move_cache()`.\n"
     ]
    },
    {
     "data": {
      "application/vnd.jupyter.widget-view+json": {
       "model_id": "1192625686454fcdbc7cc100da3e2144",
       "version_major": 2,
       "version_minor": 0
      },
      "text/plain": [
       "0it [00:00, ?it/s]"
      ]
     },
     "metadata": {},
     "output_type": "display_data"
    }
   ],
   "source": [
    "from transformers import BertModel, BertTokenizer\n",
    "import torch\n",
    "from sklearn.metrics.pairwise import cosine_similarity\n",
    "import numpy as np"
   ]
  },
  {
   "cell_type": "code",
   "execution_count": 25,
   "id": "c7c217f1-a26b-4ec7-8d02-d8e9dbe28510",
   "metadata": {},
   "outputs": [
    {
     "data": {
      "application/vnd.jupyter.widget-view+json": {
       "model_id": "e820ac9edfd94b88a31ea6dcdea5c0b5",
       "version_major": 2,
       "version_minor": 0
      },
      "text/plain": [
       "tokenizer_config.json:   0%|          | 0.00/48.0 [00:00<?, ?B/s]"
      ]
     },
     "metadata": {},
     "output_type": "display_data"
    },
    {
     "name": "stderr",
     "output_type": "stream",
     "text": [
      "C:\\Users\\ayush\\anaconda3\\Lib\\site-packages\\huggingface_hub\\file_download.py:140: UserWarning: `huggingface_hub` cache-system uses symlinks by default to efficiently store duplicated files but your machine does not support them in C:\\Users\\ayush\\.cache\\huggingface\\hub\\models--bert-base-uncased. Caching files will still work but in a degraded version that might require more space on your disk. This warning can be disabled by setting the `HF_HUB_DISABLE_SYMLINKS_WARNING` environment variable. For more details, see https://huggingface.co/docs/huggingface_hub/how-to-cache#limitations.\n",
      "To support symlinks on Windows, you either need to activate Developer Mode or to run Python as an administrator. In order to activate developer mode, see this article: https://docs.microsoft.com/en-us/windows/apps/get-started/enable-your-device-for-development\n",
      "  warnings.warn(message)\n"
     ]
    },
    {
     "data": {
      "application/vnd.jupyter.widget-view+json": {
       "model_id": "037fa379f580494f988bb31b1dd000ff",
       "version_major": 2,
       "version_minor": 0
      },
      "text/plain": [
       "vocab.txt:   0%|          | 0.00/232k [00:00<?, ?B/s]"
      ]
     },
     "metadata": {},
     "output_type": "display_data"
    },
    {
     "data": {
      "application/vnd.jupyter.widget-view+json": {
       "model_id": "7335ef0c969e4a64a2941743db799164",
       "version_major": 2,
       "version_minor": 0
      },
      "text/plain": [
       "tokenizer.json:   0%|          | 0.00/466k [00:00<?, ?B/s]"
      ]
     },
     "metadata": {},
     "output_type": "display_data"
    },
    {
     "data": {
      "application/vnd.jupyter.widget-view+json": {
       "model_id": "a6bbbe6f239b4b7196c6df3d24eb9b25",
       "version_major": 2,
       "version_minor": 0
      },
      "text/plain": [
       "config.json:   0%|          | 0.00/570 [00:00<?, ?B/s]"
      ]
     },
     "metadata": {},
     "output_type": "display_data"
    },
    {
     "data": {
      "application/vnd.jupyter.widget-view+json": {
       "model_id": "880309566cd54ea585afcccee05be72e",
       "version_major": 2,
       "version_minor": 0
      },
      "text/plain": [
       "model.safetensors:   0%|          | 0.00/440M [00:00<?, ?B/s]"
      ]
     },
     "metadata": {},
     "output_type": "display_data"
    }
   ],
   "source": [
    "model_name = 'bert-base-uncased'\n",
    "tokenizer = BertTokenizer.from_pretrained(model_name)\n",
    "model = BertModel.from_pretrained(model_name)\n",
    "\n",
    "def get_chunk_embedding(chunk):\n",
    "    inputs = tokenizer(chunk, return_tensors='pt', truncation=True, max_length=512)\n",
    "    outputs = model(**inputs)\n",
    "    # Use the embeddings of the [CLS] token\n",
    "    return outputs.last_hidden_state[:, 0, :].detach().numpy()\n",
    "    "
   ]
  },
  {
   "cell_type": "code",
   "execution_count": 26,
   "id": "334b3882-62dc-4b76-9b79-fea13dd79c7a",
   "metadata": {},
   "outputs": [],
   "source": [
    "def calculate_semantic_similarity(chunks):\n",
    "    if not chunks:  # If there are no chunks, return an empty list\n",
    "        return []\n",
    "    \n",
    "    embeddings = [get_chunk_embedding(chunk) for chunk in chunks]\n",
    "    similarity_scores = []\n",
    "    for i in range(len(embeddings) - 1):\n",
    "        similarity = cosine_similarity(embeddings[i], embeddings[i+1])\n",
    "        similarity_scores.append(similarity[0][0])\n",
    "    return similarity_scores"
   ]
  },
  {
   "cell_type": "code",
   "execution_count": 39,
   "id": "0bde0e98-cbaa-420b-bb99-3f8e3e43e267",
   "metadata": {},
   "outputs": [],
   "source": [
    "fixed_length_similarity = calculate_semantic_similarity(dataset[0]['fixed_length_chunks'])\n",
    "sentence_similarity = calculate_semantic_similarity(dataset[0]['sentence_chunks'])"
   ]
  },
  {
   "cell_type": "code",
   "execution_count": 40,
   "id": "d40b399d-6d06-4876-945e-206dca9c9033",
   "metadata": {},
   "outputs": [
    {
     "name": "stdout",
     "output_type": "stream",
     "text": [
      "Fixed-length chunks semantic similarity: 0.8573352495829264\n",
      "Sentence-based chunks semantic similarity: 0.8245464861392975\n"
     ]
    }
   ],
   "source": [
    "if fixed_length_similarity:\n",
    "    print(f\"Fixed-length chunks semantic similarity: {sum(fixed_length_similarity) / len(fixed_length_similarity)}\")\n",
    "else:\n",
    "    print(\"Fixed-length chunks semantic similarity: No data or chunks to compare\")\n",
    "\n",
    "if sentence_similarity:\n",
    "    print(f\"Sentence-based chunks semantic similarity: {sum(sentence_similarity) / len(sentence_similarity)}\")\n",
    "else:\n",
    "    print(\"Sentence-based chunks semantic similarity: No data or chunks to compare\")"
   ]
  },
  {
   "cell_type": "code",
   "execution_count": 41,
   "id": "42b08def-93f9-4df6-9da5-a8e03d99cd7f",
   "metadata": {},
   "outputs": [],
   "source": [
    "from transformers import BertTokenizer\n",
    "\n",
    "tokenizer = BertTokenizer.from_pretrained('bert-base-uncased')\n",
    "\n",
    "def calculate_token_count(text):\n",
    "    tokens = tokenizer.encode(text, add_special_tokens=True)  # Add special tokens like [CLS], [SEP]\n",
    "    return len(tokens)"
   ]
  },
  {
   "cell_type": "code",
   "execution_count": 42,
   "id": "e64f763d-4886-4c86-be93-248c9d61c966",
   "metadata": {},
   "outputs": [],
   "source": [
    "def compare_token_efficiency(original_text, chunked_texts):\n",
    "    original_token_count = calculate_token_count(original_text)\n",
    "    \n",
    "    chunk_token_counts = [calculate_token_count(chunk) for chunk in chunked_texts]\n",
    "    \n",
    "    token_efficiency = [chunk_token_count / original_token_count for chunk_token_count in chunk_token_counts]\n",
    "    \n",
    "    return original_token_count, chunk_token_counts, token_efficiency"
   ]
  },
  {
   "cell_type": "code",
   "execution_count": 43,
   "id": "233f8e27-3068-41a9-a2bc-407cba31e8bc",
   "metadata": {},
   "outputs": [],
   "source": [
    "original_text = dataset[0]['text']\n",
    "fixed_length_chunks = dataset[0]['text_chunks']  \n",
    "sentence_chunks = chunk_text_sentences(original_text)  \n",
    "\n",
    "original_token_count, fixed_length_token_counts, fixed_length_token_efficiency = compare_token_efficiency(original_text, fixed_length_chunks)\n",
    "_, sentence_token_counts, sentence_token_efficiency = compare_token_efficiency(original_text, sentence_chunks)"
   ]
  },
  {
   "cell_type": "code",
   "execution_count": 44,
   "id": "0cee754a-c134-4f5b-9f67-1d2c3963e95e",
   "metadata": {},
   "outputs": [
    {
     "name": "stdout",
     "output_type": "stream",
     "text": [
      "Original token count: 363\n",
      "Fixed-length chunk token counts: [114, 113, 119, 28]\n",
      "Fixed-length chunk token efficiency: [0.3140495867768595, 0.31129476584022037, 0.3278236914600551, 0.07713498622589532]\n",
      "Sentence chunk token counts: [29, 75, 41, 61, 31, 25, 72, 29, 16]\n",
      "Sentence chunk token efficiency: [0.07988980716253444, 0.2066115702479339, 0.11294765840220386, 0.16804407713498623, 0.08539944903581267, 0.06887052341597796, 0.19834710743801653, 0.07988980716253444, 0.0440771349862259]\n"
     ]
    }
   ],
   "source": [
    "print(f\"Original token count: {original_token_count}\")\n",
    "print(f\"Fixed-length chunk token counts: {fixed_length_token_counts}\")\n",
    "print(f\"Fixed-length chunk token efficiency: {fixed_length_token_efficiency}\")\n",
    "print(f\"Sentence chunk token counts: {sentence_token_counts}\")\n",
    "print(f\"Sentence chunk token efficiency: {sentence_token_efficiency}\")"
   ]
  },
  {
   "cell_type": "code",
   "execution_count": null,
   "id": "26e6cdc2-b52b-4e95-9511-6f1003468d92",
   "metadata": {},
   "outputs": [],
   "source": []
  }
 ],
 "metadata": {
  "kernelspec": {
   "display_name": "Python 3 (ipykernel)",
   "language": "python",
   "name": "python3"
  },
  "language_info": {
   "codemirror_mode": {
    "name": "ipython",
    "version": 3
   },
   "file_extension": ".py",
   "mimetype": "text/x-python",
   "name": "python",
   "nbconvert_exporter": "python",
   "pygments_lexer": "ipython3",
   "version": "3.12.4"
  }
 },
 "nbformat": 4,
 "nbformat_minor": 5
}
